{
 "cells": [
  {
   "cell_type": "markdown",
   "id": "8abce583-2b5c-40c4-9583-4faa630611bc",
   "metadata": {},
   "source": [
    " # Data Science Tools and Ecosystem"
   ]
  },
  {
   "cell_type": "markdown",
   "id": "0dacb77c-faf1-4c63-8589-6e0793680d14",
   "metadata": {},
   "source": [
    "2-title.png ![text](https://i.imgur.com/52946xR.png)"
   ]
  },
  {
   "cell_type": "markdown",
   "id": "57f47f53-55de-4482-8032-d622e336a956",
   "metadata": {},
   "source": [
    "In this notebook, Data Science Tools and Ecosystem are summarized."
   ]
  },
  {
   "cell_type": "markdown",
   "id": "8df21b1d-5fb7-4026-945c-9c85430a2f2d",
   "metadata": {},
   "source": [
    "3-intro.png ![text](https://i.imgur.com/nRZsc3R.png)"
   ]
  },
  {
   "cell_type": "markdown",
   "id": "5e1749a6-8a6e-4e98-87d9-4550373b94cf",
   "metadata": {},
   "source": [
    "Some of the popular languages that Data Scientists use are:"
   ]
  },
  {
   "cell_type": "markdown",
   "id": "aa621750-b585-407e-ac2a-4244904b8439",
   "metadata": {},
   "source": [
    "1. Python\n",
    "2. R\n",
    "3. SQL"
   ]
  },
  {
   "cell_type": "markdown",
   "id": "ea6040fd-8f20-4e73-ad44-d8e3ed1002d3",
   "metadata": {},
   "source": [
    "4-dslanguages.png ![text](https://i.imgur.com/48a6mnY.png)"
   ]
  },
  {
   "cell_type": "markdown",
   "id": "7b680f8c-46ca-46d1-8cb8-12437a80a0c1",
   "metadata": {},
   "source": [
    "Some of the commonly used libraries used by Data Scientists include:"
   ]
  },
  {
   "cell_type": "markdown",
   "id": "c09df43d-d3c9-4c2e-848e-7a846ab785a2",
   "metadata": {},
   "source": [
    "1. Pandas\n",
    "2. NumPy\n",
    "3. Matplotlib"
   ]
  },
  {
   "cell_type": "markdown",
   "id": "9737048f-1a55-433e-9cc5-7e2c6b0728c5",
   "metadata": {},
   "source": [
    "5-dslibraries.png ![](https://i.imgur.com/wIUmD4p.png)"
   ]
  },
  {
   "cell_type": "markdown",
   "id": "f4a49e33-bc59-425a-8559-eab329a9eb7d",
   "metadata": {},
   "source": [
    "|Data Science Tools| Hadoop|Spark|TensorFlow.js|\n",
    "|------------------| ------|-----|-------------|"
   ]
  },
  {
   "cell_type": "markdown",
   "id": "8bb160aa-0d91-4e61-849e-7305255b65da",
   "metadata": {},
   "source": [
    "6-dstools.png ![](https://i.imgur.com/TSqYfzF.png)"
   ]
  },
  {
   "cell_type": "markdown",
   "id": "e80c2258-746d-48f3-af24-9d9dc0b3a29e",
   "metadata": {},
   "source": [
    "### Below are a few examples of evaluating arithmetic expressions in Python"
   ]
  },
  {
   "cell_type": "markdown",
   "id": "238d158e-9a40-4f84-9f37-e3c741942fe0",
   "metadata": {},
   "source": [
    "7-introarithmetic.png ![](https://i.imgur.com/r9czd9X.png)"
   ]
  },
  {
   "cell_type": "code",
   "execution_count": 4,
   "id": "ec4d1475-fb07-4689-86f4-ff2e6961cf81",
   "metadata": {
    "tags": []
   },
   "outputs": [],
   "source": [
    "# This a simple arithmetic expression to mutiply then add integers"
   ]
  },
  {
   "cell_type": "code",
   "execution_count": 5,
   "id": "b04a72c7-f5d2-4b67-8410-c5c83c4542f1",
   "metadata": {
    "tags": []
   },
   "outputs": [
    {
     "data": {
      "text/plain": [
       "17"
      ]
     },
     "execution_count": 5,
     "metadata": {},
     "output_type": "execute_result"
    }
   ],
   "source": [
    "(3*4)+5"
   ]
  },
  {
   "cell_type": "markdown",
   "id": "88698218-7182-42a9-b713-d887712298b6",
   "metadata": {},
   "source": [
    "8-multiplyandaddintegers.png ![](https://i.imgur.com/zSQHHsL.png)"
   ]
  },
  {
   "cell_type": "code",
   "execution_count": 6,
   "id": "9af14353-d980-4560-9dbf-37945fb1f39a",
   "metadata": {
    "tags": []
   },
   "outputs": [],
   "source": [
    "# This will convert 200 minutes to hours by diving by 60 "
   ]
  },
  {
   "cell_type": "code",
   "execution_count": 8,
   "id": "9368f47a-aded-490d-aec5-ace212c829ec",
   "metadata": {
    "tags": []
   },
   "outputs": [
    {
     "data": {
      "text/plain": [
       "3.3333333333333335"
      ]
     },
     "execution_count": 8,
     "metadata": {},
     "output_type": "execute_result"
    }
   ],
   "source": [
    "(200/60)"
   ]
  },
  {
   "cell_type": "markdown",
   "id": "094fbaac-0a4c-42c9-b6d2-11d3d4da3658",
   "metadata": {},
   "source": [
    "9-hourstominutes.png ![](https://i.imgur.com/BPY6c4K.png)"
   ]
  },
  {
   "cell_type": "markdown",
   "id": "c9b5fc48-8001-49ac-9f82-ba076998ec6b",
   "metadata": {},
   "source": [
    "In this notebook, Data Science Tools and Ecosystem are summarized."
   ]
  },
  {
   "cell_type": "code",
   "execution_count": null,
   "id": "63c78ed5-57fe-4d46-9fc2-397d5b527f76",
   "metadata": {},
   "outputs": [],
   "source": [
    "**Objectives:**\n",
    "* bullets\n",
    "* pillow \n",
    "* laptop\n",
    "* mouse\n"
   ]
  },
  {
   "cell_type": "markdown",
   "id": "0588946a-9ffc-4287-9bff-4653619611ac",
   "metadata": {},
   "source": [
    "10-objectives.png ![](https://i.imgur.com/Y0iwP29.png)"
   ]
  },
  {
   "cell_type": "markdown",
   "id": "f64a6ae5-e2c3-4955-a65b-3544da134090",
   "metadata": {},
   "source": [
    "## Author Danila "
   ]
  },
  {
   "cell_type": "markdown",
   "id": "556cf273-dbf9-4870-ad89-cc05a20b3b1c",
   "metadata": {},
   "source": [
    "11-authordetails.png ![](https://i.imgur.com/sBedIAA.png)"
   ]
  },
  {
   "cell_type": "code",
   "execution_count": null,
   "id": "80bbf810-64b7-4714-91ba-62901541f1f5",
   "metadata": {},
   "outputs": [],
   "source": []
  }
 ],
 "metadata": {
  "kernelspec": {
   "display_name": "Python 3 (ipykernel)",
   "language": "python",
   "name": "python3"
  },
  "language_info": {
   "codemirror_mode": {
    "name": "ipython",
    "version": 3
   },
   "file_extension": ".py",
   "mimetype": "text/x-python",
   "name": "python",
   "nbconvert_exporter": "python",
   "pygments_lexer": "ipython3",
   "version": "3.11.5"
  }
 },
 "nbformat": 4,
 "nbformat_minor": 5
}

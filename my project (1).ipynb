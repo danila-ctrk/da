{
 "cells": [
  {
   "cell_type": "markdown",
   "id": "332f07f4-0452-49ec-9f8d-d4dc66e2dc8d",
   "metadata": {},
   "source": [
    " # Data Science Tools and Ecosystem"
   ]
  },
  {
   "cell_type": "markdown",
   "id": "0a64f6ff-7635-4e60-8826-2afa8eba652b",
   "metadata": {},
   "source": [
    "In this notebook, Data Science Tools and Ecosystem are summarized."
   ]
  },
  {
   "cell_type": "markdown",
   "id": "eb398d32-6eca-429d-8faa-e6ca5925a899",
   "metadata": {},
   "source": [
    "Some of the popular languages that Data Scientists use are:"
   ]
  },
  {
   "cell_type": "markdown",
   "id": "a0cc938a-f678-4d37-a8ac-5c7fcb189b7e",
   "metadata": {},
   "source": [
    "1. Python\n",
    "2. R\n",
    "3. SQL"
   ]
  },
  {
   "cell_type": "markdown",
   "id": "ed8fe354-1f28-49d9-806c-16e71a289418",
   "metadata": {},
   "source": [
    "Some of the commonly used libraries used by Data Scientists include:"
   ]
  },
  {
   "cell_type": "markdown",
   "id": "aaf57a35-9f3d-4337-834d-c5c7a6b9670b",
   "metadata": {},
   "source": [
    "1. Pandas\n",
    "2. NumPy\n",
    "3. Matplotlib"
   ]
  },
  {
   "cell_type": "markdown",
   "id": "7d2dd77d-2520-4b81-b94b-43c3b36a33fe",
   "metadata": {},
   "source": [
    "|Data Science Tools| \n",
    "|------------------|\n",
    "|Hadoop|\n",
    "|TensorFlow|\n",
    "|Anaconda|\n"
   ]
  },
  {
   "cell_type": "markdown",
   "id": "eda79b07-7587-4149-bd5c-ce315bdc4739",
   "metadata": {},
   "source": [
    "### Below are a few examples of evaluating arithmetic expressions in Python"
   ]
  },
  {
   "cell_type": "code",
   "execution_count": null,
   "id": "8f0acd05-b238-4df8-a851-fc457ea54fa1",
   "metadata": {
    "tags": []
   },
   "outputs": [],
   "source": [
    "# This a simple arithmetic expression to mutiply then add integers"
   ]
  },
  {
   "cell_type": "code",
   "execution_count": 5,
   "id": "b04a72c7-f5d2-4b67-8410-c5c83c4542f1",
   "metadata": {
    "tags": []
   },
   "outputs": [
    {
     "data": {
      "text/plain": [
       "17"
      ]
     },
     "execution_count": 5,
     "metadata": {},
     "output_type": "execute_result"
    }
   ],
   "source": [
    "(3*4)+5"
   ]
  },
  {
   "cell_type": "code",
   "execution_count": 6,
   "id": "9af14353-d980-4560-9dbf-37945fb1f39a",
   "metadata": {
    "tags": []
   },
   "outputs": [],
   "source": [
    "# This will convert 200 minutes to hours by diving by 60 "
   ]
  },
  {
   "cell_type": "code",
   "execution_count": 8,
   "id": "9368f47a-aded-490d-aec5-ace212c829ec",
   "metadata": {
    "tags": []
   },
   "outputs": [
    {
     "data": {
      "text/plain": [
       "3.3333333333333335"
      ]
     },
     "execution_count": 8,
     "metadata": {},
     "output_type": "execute_result"
    }
   ],
   "source": [
    "(200/60)"
   ]
  },
  {
   "cell_type": "markdown",
   "id": "5e035977-279a-4db1-9a6b-354dbc420228",
   "metadata": {},
   "source": [
    "In this notebook, Data Science Tools and Ecosystem are summarized."
   ]
  },
  {
   "cell_type": "markdown",
   "id": "00668289-08f5-4fa5-9ab5-91e58bb07f38",
   "metadata": {
    "tags": []
   },
   "source": [
    "**Objectives:**\n",
    "* run code\n",
    "* run markdown\n",
    "* make a table\n"
   ]
  },
  {
   "cell_type": "markdown",
   "id": "21ce5a6c-5192-4f8f-a99d-f84111993f2d",
   "metadata": {},
   "source": [
    "## Author"
   ]
  },
  {
   "cell_type": "markdown",
   "id": "aa61fb11-e418-4417-bdf0-20140c77ef0b",
   "metadata": {},
   "source": [
    "Danila"
   ]
  },
  {
   "cell_type": "code",
   "execution_count": null,
   "id": "900a2be0-036a-4a54-877f-5ca7fcf0b19e",
   "metadata": {},
   "outputs": [],
   "source": []
  }
 ],
 "metadata": {
  "kernelspec": {
   "display_name": "Python 3 (ipykernel)",
   "language": "python",
   "name": "python3"
  },
  "language_info": {
   "codemirror_mode": {
    "name": "ipython",
    "version": 3
   },
   "file_extension": ".py",
   "mimetype": "text/x-python",
   "name": "python",
   "nbconvert_exporter": "python",
   "pygments_lexer": "ipython3",
   "version": "3.11.5"
  }
 },
 "nbformat": 4,
 "nbformat_minor": 5
}
